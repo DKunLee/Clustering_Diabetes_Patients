{
 "cells": [
  {
   "cell_type": "code",
   "execution_count": 1,
   "metadata": {},
   "outputs": [],
   "source": [
    "from analysis_tools.preprocess import *\n",
    "\n",
    "pd.set_option('display.max_colwidth', None)"
   ]
  },
  {
   "cell_type": "code",
   "execution_count": 2,
   "metadata": {},
   "outputs": [],
   "source": [
    "file_path = \"data/CS6140_meds_for_included_patients.RData\"\n",
    "\n",
    "raw_patient_df = data_load(file_path=file_path)"
   ]
  },
  {
   "cell_type": "markdown",
   "metadata": {},
   "source": [
    "# Data Pre-Processing"
   ]
  },
  {
   "cell_type": "markdown",
   "metadata": {},
   "source": [
    "## Categorizing medications"
   ]
  },
  {
   "cell_type": "markdown",
   "metadata": {},
   "source": [
    "In this step, I will categorize the medications based on similarity(nothing about the similarity will be in the future)"
   ]
  },
  {
   "cell_type": "code",
   "execution_count": 3,
   "metadata": {},
   "outputs": [
    {
     "data": {
      "text/plain": [
       "array(['Insulin', 'MET', 'SGLT2', 'f_INS', 'DPP_4', 'GLP_1', 'SUL', 'TZD',\n",
       "       'Other'], dtype=object)"
      ]
     },
     "execution_count": 3,
     "metadata": {},
     "output_type": "execute_result"
    }
   ],
   "source": [
    "raw_patient_df[\"cls.short\"].unique()"
   ]
  },
  {
   "cell_type": "code",
   "execution_count": 4,
   "metadata": {},
   "outputs": [],
   "source": [
    "# Expertise\n",
    "# f-INS -> Insulin\n",
    "raw_patient_df = convert_medications(raw_patient_df, \"cls.short\", old=\"f_INS\", new=\"Insulin\")\n",
    "\n",
    "# Alpha-GI -> Other\n",
    "raw_patient_df = convert_medications(raw_patient_df, \"cls.short\", old=\"Alpha-GI\", new=\"Other\")"
   ]
  },
  {
   "cell_type": "code",
   "execution_count": 5,
   "metadata": {},
   "outputs": [
    {
     "data": {
      "text/plain": [
       "array(['Insulin', 'MET', 'SGLT2', 'DPP_4', 'GLP_1', 'SUL', 'TZD', 'Other'],\n",
       "      dtype=object)"
      ]
     },
     "execution_count": 5,
     "metadata": {},
     "output_type": "execute_result"
    }
   ],
   "source": [
    "raw_patient_df[\"cls.short\"].unique()"
   ]
  },
  {
   "cell_type": "markdown",
   "metadata": {},
   "source": [
    "## Get Information-Matrix"
   ]
  },
  {
   "cell_type": "markdown",
   "metadata": {},
   "source": [
    "The information-matrix is the matrix that contains the information of when the patient got the medications and what medications the patient got. The information-matrix is following the one-hot encoding idea, which is it shows 1 on matrix if the patient got the specific medication on certain day. The matirx will be formed as nXd where n is the medication and d is the bins(date).\n",
    "\n",
    "* What is bin?\n",
    "    \n",
    "    Bin is the specific terms that we will use in this analysis, which is the separation of date. For example, in this analysis, we will use half-year bins that have the information of all the medications that the patient got during the half-year duration.\n",
    "\n",
    "* How the medications are represented\n",
    "\n",
    "    All the medications we could see from the data will be handled by manually as a one-hot encoded matrix."
   ]
  },
  {
   "cell_type": "code",
   "execution_count": 6,
   "metadata": {},
   "outputs": [
    {
     "data": {
      "text/plain": [
       "{'Insulin': [1, 0, 0, 0, 0, 0, 0, 0],\n",
       " 'MET': [0, 1, 0, 0, 0, 0, 0, 0],\n",
       " 'SGLT2': [0, 0, 1, 0, 0, 0, 0, 0],\n",
       " 'DPP_4': [0, 0, 0, 1, 0, 0, 0, 0],\n",
       " 'GLP_1': [0, 0, 0, 0, 1, 0, 0, 0],\n",
       " 'SUL': [0, 0, 0, 0, 0, 1, 0, 0],\n",
       " 'TZD': [0, 0, 0, 0, 0, 0, 1, 0],\n",
       " 'Other': [0, 0, 0, 0, 0, 0, 0, 1]}"
      ]
     },
     "execution_count": 6,
     "metadata": {},
     "output_type": "execute_result"
    }
   ],
   "source": [
    "medications_one_hot_encoding = medication_one_hot_encoding(raw_patient_df)\n",
    "save_one_hot_encoded_medications(medications_one_hot_encoding, \"medications_one_hot_encoding\")\n",
    "medications_one_hot_encoding"
   ]
  },
  {
   "cell_type": "code",
   "execution_count": 7,
   "metadata": {},
   "outputs": [
    {
     "data": {
      "text/html": [
       "<div>\n",
       "<style scoped>\n",
       "    .dataframe tbody tr th:only-of-type {\n",
       "        vertical-align: middle;\n",
       "    }\n",
       "\n",
       "    .dataframe tbody tr th {\n",
       "        vertical-align: top;\n",
       "    }\n",
       "\n",
       "    .dataframe thead th {\n",
       "        text-align: right;\n",
       "    }\n",
       "</style>\n",
       "<table border=\"1\" class=\"dataframe\">\n",
       "  <thead>\n",
       "    <tr style=\"text-align: right;\">\n",
       "      <th></th>\n",
       "      <th>patient_id</th>\n",
       "      <th>info_mat</th>\n",
       "      <th>all_medications</th>\n",
       "    </tr>\n",
       "  </thead>\n",
       "  <tbody>\n",
       "    <tr>\n",
       "      <th>0</th>\n",
       "      <td>e599a5ed</td>\n",
       "      <td>[[2, 0, 0, 0, 0, 0, 0, 0], [4, 4, 10, 0, 0, 0, 0, 0], [0, 1, 5, 0, 0, 0, 0, 0], [0, 1, 5, 0, 0, 0, 0, 0], [0, 1, 0, 0, 0, 0, 0, 0], [0, 2, 0, 0, 0, 0, 0, 0], [0, 0, 0, 0, 0, 0, 0, 0], [0, 6, 0, 0, 0, 0, 0, 0], [0, 1, 0, 0, 0, 0, 0, 0], [0, 2, 0, 0, 0, 0, 0, 0]]</td>\n",
       "      <td>{SGLT2, Insulin, MET}</td>\n",
       "    </tr>\n",
       "    <tr>\n",
       "      <th>1</th>\n",
       "      <td>02de3c3a</td>\n",
       "      <td>[[0, 2, 0, 0, 0, 0, 0, 0], [0, 5, 0, 0, 0, 0, 0, 0], [0, 1, 0, 0, 0, 0, 0, 0], [0, 0, 0, 0, 0, 0, 0, 0], [0, 3, 0, 0, 0, 0, 0, 0], [0, 2, 0, 0, 0, 0, 0, 0], [0, 2, 0, 0, 0, 0, 0, 0], [0, 0, 0, 0, 0, 0, 0, 0], [0, 2, 0, 0, 0, 0, 0, 0], [0, 2, 0, 0, 0, 0, 0, 0]]</td>\n",
       "      <td>{MET}</td>\n",
       "    </tr>\n",
       "    <tr>\n",
       "      <th>2</th>\n",
       "      <td>88c1f41c</td>\n",
       "      <td>[[35, 1, 0, 0, 0, 0, 0, 0], [0, 0, 0, 0, 0, 0, 0, 0], [0, 1, 0, 0, 0, 0, 0, 0], [0, 2, 0, 0, 0, 0, 0, 0], [0, 2, 0, 0, 0, 0, 0, 0], [0, 2, 0, 8, 0, 0, 0, 0], [0, 0, 0, 0, 0, 0, 0, 0], [0, 0, 0, 0, 0, 0, 0, 0], [0, 1, 0, 1, 0, 0, 0, 0], [0, 1, 0, 0, 0, 0, 0, 0]]</td>\n",
       "      <td>{DPP_4, Insulin, MET}</td>\n",
       "    </tr>\n",
       "    <tr>\n",
       "      <th>3</th>\n",
       "      <td>8db7c31f</td>\n",
       "      <td>[[0, 0, 0, 0, 0, 0, 0, 0], [0, 1, 0, 0, 0, 0, 0, 0], [0, 0, 0, 0, 0, 0, 0, 0], [0, 0, 0, 0, 0, 0, 0, 0], [0, 0, 0, 0, 0, 0, 0, 0], [0, 0, 0, 0, 0, 0, 0, 0], [0, 0, 0, 0, 0, 0, 0, 0], [0, 0, 0, 0, 0, 0, 0, 0], [0, 0, 0, 0, 7, 0, 0, 0], [0, 0, 0, 0, 7, 0, 0, 0]]</td>\n",
       "      <td>{GLP_1, MET}</td>\n",
       "    </tr>\n",
       "    <tr>\n",
       "      <th>4</th>\n",
       "      <td>592f64c7</td>\n",
       "      <td>[[0, 3, 0, 0, 0, 0, 0, 0], [0, 2, 0, 0, 0, 0, 0, 0], [0, 1, 0, 0, 0, 0, 0, 0], [0, 2, 0, 0, 0, 0, 0, 0], [0, 1, 0, 0, 0, 0, 0, 0], [0, 2, 0, 0, 0, 0, 0, 0], [0, 1, 0, 0, 0, 0, 0, 0], [0, 2, 0, 0, 0, 0, 0, 0], [0, 0, 0, 0, 0, 0, 0, 0], [0, 2, 0, 0, 0, 0, 0, 0]]</td>\n",
       "      <td>{MET}</td>\n",
       "    </tr>\n",
       "  </tbody>\n",
       "</table>\n",
       "</div>"
      ],
      "text/plain": [
       "  patient_id  \\\n",
       "0   e599a5ed   \n",
       "1   02de3c3a   \n",
       "2   88c1f41c   \n",
       "3   8db7c31f   \n",
       "4   592f64c7   \n",
       "\n",
       "                                                                                                                                                                                                                                                                info_mat  \\\n",
       "0  [[2, 0, 0, 0, 0, 0, 0, 0], [4, 4, 10, 0, 0, 0, 0, 0], [0, 1, 5, 0, 0, 0, 0, 0], [0, 1, 5, 0, 0, 0, 0, 0], [0, 1, 0, 0, 0, 0, 0, 0], [0, 2, 0, 0, 0, 0, 0, 0], [0, 0, 0, 0, 0, 0, 0, 0], [0, 6, 0, 0, 0, 0, 0, 0], [0, 1, 0, 0, 0, 0, 0, 0], [0, 2, 0, 0, 0, 0, 0, 0]]   \n",
       "1   [[0, 2, 0, 0, 0, 0, 0, 0], [0, 5, 0, 0, 0, 0, 0, 0], [0, 1, 0, 0, 0, 0, 0, 0], [0, 0, 0, 0, 0, 0, 0, 0], [0, 3, 0, 0, 0, 0, 0, 0], [0, 2, 0, 0, 0, 0, 0, 0], [0, 2, 0, 0, 0, 0, 0, 0], [0, 0, 0, 0, 0, 0, 0, 0], [0, 2, 0, 0, 0, 0, 0, 0], [0, 2, 0, 0, 0, 0, 0, 0]]   \n",
       "2  [[35, 1, 0, 0, 0, 0, 0, 0], [0, 0, 0, 0, 0, 0, 0, 0], [0, 1, 0, 0, 0, 0, 0, 0], [0, 2, 0, 0, 0, 0, 0, 0], [0, 2, 0, 0, 0, 0, 0, 0], [0, 2, 0, 8, 0, 0, 0, 0], [0, 0, 0, 0, 0, 0, 0, 0], [0, 0, 0, 0, 0, 0, 0, 0], [0, 1, 0, 1, 0, 0, 0, 0], [0, 1, 0, 0, 0, 0, 0, 0]]   \n",
       "3   [[0, 0, 0, 0, 0, 0, 0, 0], [0, 1, 0, 0, 0, 0, 0, 0], [0, 0, 0, 0, 0, 0, 0, 0], [0, 0, 0, 0, 0, 0, 0, 0], [0, 0, 0, 0, 0, 0, 0, 0], [0, 0, 0, 0, 0, 0, 0, 0], [0, 0, 0, 0, 0, 0, 0, 0], [0, 0, 0, 0, 0, 0, 0, 0], [0, 0, 0, 0, 7, 0, 0, 0], [0, 0, 0, 0, 7, 0, 0, 0]]   \n",
       "4   [[0, 3, 0, 0, 0, 0, 0, 0], [0, 2, 0, 0, 0, 0, 0, 0], [0, 1, 0, 0, 0, 0, 0, 0], [0, 2, 0, 0, 0, 0, 0, 0], [0, 1, 0, 0, 0, 0, 0, 0], [0, 2, 0, 0, 0, 0, 0, 0], [0, 1, 0, 0, 0, 0, 0, 0], [0, 2, 0, 0, 0, 0, 0, 0], [0, 0, 0, 0, 0, 0, 0, 0], [0, 2, 0, 0, 0, 0, 0, 0]]   \n",
       "\n",
       "         all_medications  \n",
       "0  {SGLT2, Insulin, MET}  \n",
       "1                  {MET}  \n",
       "2  {DPP_4, Insulin, MET}  \n",
       "3           {GLP_1, MET}  \n",
       "4                  {MET}  "
      ]
     },
     "execution_count": 7,
     "metadata": {},
     "output_type": "execute_result"
    }
   ],
   "source": [
    "patient_df = get_info_matrix(raw_patient_df, medications_one_hot_encoding, 2019, 2023, \"half_year\")\n",
    "anonymous_head(patient_df, 5)"
   ]
  },
  {
   "cell_type": "code",
   "execution_count": 8,
   "metadata": {},
   "outputs": [
    {
     "data": {
      "text/plain": [
       "(10346, 3)"
      ]
     },
     "execution_count": 8,
     "metadata": {},
     "output_type": "execute_result"
    }
   ],
   "source": [
    "patient_df.shape"
   ]
  },
  {
   "cell_type": "code",
   "execution_count": 9,
   "metadata": {},
   "outputs": [
    {
     "data": {
      "text/html": [
       "<div>\n",
       "<style scoped>\n",
       "    .dataframe tbody tr th:only-of-type {\n",
       "        vertical-align: middle;\n",
       "    }\n",
       "\n",
       "    .dataframe tbody tr th {\n",
       "        vertical-align: top;\n",
       "    }\n",
       "\n",
       "    .dataframe thead th {\n",
       "        text-align: right;\n",
       "    }\n",
       "</style>\n",
       "<table border=\"1\" class=\"dataframe\">\n",
       "  <thead>\n",
       "    <tr style=\"text-align: right;\">\n",
       "      <th></th>\n",
       "      <th>patient_id</th>\n",
       "      <th>T2D_onset_date</th>\n",
       "      <th>T2D_onset_half_year</th>\n",
       "      <th>race_ethnicity</th>\n",
       "      <th>patient_regional_location</th>\n",
       "      <th>sex</th>\n",
       "      <th>year_of_birth</th>\n",
       "      <th>generation</th>\n",
       "    </tr>\n",
       "  </thead>\n",
       "  <tbody>\n",
       "    <tr>\n",
       "      <th>0</th>\n",
       "      <td>e599a5ed</td>\n",
       "      <td>2019-06-10</td>\n",
       "      <td>2019-1</td>\n",
       "      <td>White</td>\n",
       "      <td>Midwest</td>\n",
       "      <td>F</td>\n",
       "      <td>1979</td>\n",
       "      <td>Generation X</td>\n",
       "    </tr>\n",
       "    <tr>\n",
       "      <th>1</th>\n",
       "      <td>02de3c3a</td>\n",
       "      <td>2019-04-09</td>\n",
       "      <td>2019-1</td>\n",
       "      <td>White</td>\n",
       "      <td>Midwest</td>\n",
       "      <td>M</td>\n",
       "      <td>1972</td>\n",
       "      <td>Generation X</td>\n",
       "    </tr>\n",
       "    <tr>\n",
       "      <th>2</th>\n",
       "      <td>88c1f41c</td>\n",
       "      <td>2019-05-08</td>\n",
       "      <td>2019-1</td>\n",
       "      <td>Black</td>\n",
       "      <td>Midwest</td>\n",
       "      <td>F</td>\n",
       "      <td>1971</td>\n",
       "      <td>Generation X</td>\n",
       "    </tr>\n",
       "    <tr>\n",
       "      <th>3</th>\n",
       "      <td>8db7c31f</td>\n",
       "      <td>2019-03-22</td>\n",
       "      <td>2019-1</td>\n",
       "      <td>Other Race</td>\n",
       "      <td>Midwest</td>\n",
       "      <td>F</td>\n",
       "      <td>1977</td>\n",
       "      <td>Generation X</td>\n",
       "    </tr>\n",
       "    <tr>\n",
       "      <th>4</th>\n",
       "      <td>592f64c7</td>\n",
       "      <td>2019-01-15</td>\n",
       "      <td>2019-1</td>\n",
       "      <td>Black</td>\n",
       "      <td>Midwest</td>\n",
       "      <td>F</td>\n",
       "      <td>1958</td>\n",
       "      <td>Baby Boomer</td>\n",
       "    </tr>\n",
       "  </tbody>\n",
       "</table>\n",
       "</div>"
      ],
      "text/plain": [
       "  patient_id T2D_onset_date T2D_onset_half_year race_ethnicity  \\\n",
       "0   e599a5ed     2019-06-10              2019-1          White   \n",
       "1   02de3c3a     2019-04-09              2019-1          White   \n",
       "2   88c1f41c     2019-05-08              2019-1          Black   \n",
       "3   8db7c31f     2019-03-22              2019-1     Other Race   \n",
       "4   592f64c7     2019-01-15              2019-1          Black   \n",
       "\n",
       "  patient_regional_location sex  year_of_birth    generation  \n",
       "0                   Midwest   F           1979  Generation X  \n",
       "1                   Midwest   M           1972  Generation X  \n",
       "2                   Midwest   F           1971  Generation X  \n",
       "3                   Midwest   F           1977  Generation X  \n",
       "4                   Midwest   F           1958   Baby Boomer  "
      ]
     },
     "execution_count": 9,
     "metadata": {},
     "output_type": "execute_result"
    }
   ],
   "source": [
    "region = \"data/CS6140_included_patients.RData\"\n",
    "region_df = data_load(file_path=region)\n",
    "anonymous_head(region_df, 5)"
   ]
  },
  {
   "cell_type": "code",
   "execution_count": 10,
   "metadata": {},
   "outputs": [
    {
     "data": {
      "text/plain": [
       "(10346, 4)"
      ]
     },
     "execution_count": 10,
     "metadata": {},
     "output_type": "execute_result"
    }
   ],
   "source": [
    "patient_df = patient_df.merge(region_df[[\"patient_id\", \"patient_regional_location\"]], how=\"left\", on=\"patient_id\")\n",
    "patient_df.shape"
   ]
  },
  {
   "cell_type": "code",
   "execution_count": 11,
   "metadata": {},
   "outputs": [
    {
     "data": {
      "text/plain": [
       "(10346, 4)"
      ]
     },
     "execution_count": 11,
     "metadata": {},
     "output_type": "execute_result"
    }
   ],
   "source": [
    "patient_df = patient_df[patient_df['patient_regional_location']!=\"Ex-US\"]\n",
    "patient_df.shape"
   ]
  },
  {
   "cell_type": "code",
   "execution_count": 12,
   "metadata": {},
   "outputs": [
    {
     "data": {
      "text/plain": [
       "array(['Midwest', nan, 'South', 'Northeast', 'West'], dtype=object)"
      ]
     },
     "execution_count": 12,
     "metadata": {},
     "output_type": "execute_result"
    }
   ],
   "source": [
    "patient_df['patient_regional_location'].unique()"
   ]
  },
  {
   "cell_type": "code",
   "execution_count": 13,
   "metadata": {},
   "outputs": [
    {
     "data": {
      "text/plain": [
       "(9110, 4)"
      ]
     },
     "execution_count": 13,
     "metadata": {},
     "output_type": "execute_result"
    }
   ],
   "source": [
    "patient_df.dropna(subset=['patient_regional_location'], inplace=True)\n",
    "patient_df.shape"
   ]
  },
  {
   "cell_type": "markdown",
   "metadata": {},
   "source": [
    "Let's get the random 100 patients dataset and full number of patients dataset.\n",
    "\n",
    "I will use 100 patients dataset to decide the best clustering method and use the best clustering to cluster the full dataset."
   ]
  },
  {
   "cell_type": "code",
   "execution_count": 14,
   "metadata": {},
   "outputs": [],
   "source": [
    "columns = [\"patient_id\", \"info_mat\", \"all_medications\"]"
   ]
  },
  {
   "cell_type": "code",
   "execution_count": 15,
   "metadata": {},
   "outputs": [],
   "source": [
    "p_500_df = get_random_patients(df=patient_df, num_patients=500, random_state=42)\n",
    "save_columns_as_csv(df=p_500_df, columns=columns, file_name=\"rnd_500_patients\")"
   ]
  },
  {
   "cell_type": "code",
   "execution_count": 16,
   "metadata": {},
   "outputs": [],
   "source": [
    "p_full_df = get_random_patients(df=patient_df, num_patients=patient_df.shape[0])\n",
    "save_columns_as_csv(df=p_full_df, columns=columns, file_name=\"full_patients\")"
   ]
  }
 ],
 "metadata": {
  "kernelspec": {
   "display_name": "Python 3",
   "language": "python",
   "name": "python3"
  },
  "language_info": {
   "codemirror_mode": {
    "name": "ipython",
    "version": 3
   },
   "file_extension": ".py",
   "mimetype": "text/x-python",
   "name": "python",
   "nbconvert_exporter": "python",
   "pygments_lexer": "ipython3",
   "version": "3.12.2"
  }
 },
 "nbformat": 4,
 "nbformat_minor": 2
}
